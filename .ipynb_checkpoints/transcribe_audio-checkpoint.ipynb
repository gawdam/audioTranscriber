{
 "cells": [
  {
   "cell_type": "markdown",
   "id": "4d2514e9-9c47-42cd-96f6-991b6cf6b687",
   "metadata": {},
   "source": [
    "# Install dependencies"
   ]
  },
  {
   "cell_type": "markdown",
   "id": "1707a21d-723a-4351-b257-a0b8b6783b12",
   "metadata": {},
   "source": [
    "- [Whisper](https://openai.com/research/whisper) - neural net based speech recognition model\n",
    "- [ffmpeg](https://www.ffmpeg.org/download.html) - multimedia framework to read audio\n",
    "    1. Download appropriate installation zip from - https://github.com/BtbN/FFmpeg-Builds/releases\n",
    "    2. Unzip all and navigate to - ffmpeg-master-folder\\bin\n",
    "    3. Copy all contents and paste it in the same file as this notebook\n",
    " \n",
    "       \n",
    "    "
   ]
  },
  {
   "cell_type": "code",
   "execution_count": null,
   "id": "1f8197b0-ec9b-45af-b826-86d5dece96e5",
   "metadata": {},
   "outputs": [],
   "source": [
    "#install whisper - the openAI model for converting audio to text.\n",
    "!pip install git+https://github.com/openai/whisper.git"
   ]
  },
  {
   "cell_type": "code",
   "execution_count": 1,
   "id": "c551f5b4-7720-4a30-a20c-8dacaaa77120",
   "metadata": {},
   "outputs": [],
   "source": [
    "import whisper"
   ]
  },
  {
   "cell_type": "markdown",
   "id": "5229a94b-7c69-4373-baad-59bf24be717b",
   "metadata": {},
   "source": [
    "# Create the model"
   ]
  },
  {
   "cell_type": "code",
   "execution_count": 2,
   "id": "830296b4-c996-4c4b-9c56-a525e163a055",
   "metadata": {},
   "outputs": [],
   "source": [
    "#create the model\n",
    "model = whisper.load_model('base')"
   ]
  },
  {
   "cell_type": "code",
   "execution_count": 3,
   "id": "6e9a947c-efc0-4b9f-9ce0-3b64d33d0c9f",
   "metadata": {},
   "outputs": [
    {
     "name": "stderr",
     "output_type": "stream",
     "text": [
      "C:\\Users\\Gowdham\\AppData\\Local\\Programs\\Python\\Python310\\lib\\site-packages\\whisper\\transcribe.py:126: UserWarning: FP16 is not supported on CPU; using FP32 instead\n",
      "  warnings.warn(\"FP16 is not supported on CPU; using FP32 instead\")\n"
     ]
    }
   ],
   "source": [
    "#get the transcription data\n",
    "result = model.transcribe('D:\\Professional - Work\\Freelance\\Surya Solutions\\sample.m4a')"
   ]
  },
  {
   "cell_type": "code",
   "execution_count": 6,
   "id": "7da81a55-1750-459a-b870-3c19633a9dfb",
   "metadata": {},
   "outputs": [
    {
     "name": "stdout",
     "output_type": "stream",
     "text": [
      " MP3 is a widely used audio file format that revolutionized the way music is stored and transmitted. It employs a lossy compression algorithm which means it reduces the file size significantly while maintaining an acceptable level of sound quality. This compression method enables efficient storage and transmission of audio files making MP3 the go-to format for digital music distribution.\n"
     ]
    }
   ],
   "source": [
    "print(result['text'])"
   ]
  },
  {
   "cell_type": "markdown",
   "id": "684f575c-d7d4-4ad7-b575-26ba3d0f3960",
   "metadata": {},
   "source": [
    "# Save result in a file"
   ]
  },
  {
   "cell_type": "code",
   "execution_count": 9,
   "id": "f3cf88c3-af09-497b-86b7-3d77e4f31288",
   "metadata": {},
   "outputs": [],
   "source": [
    "with open('transcript.txt',\"w\") as transcript:\n",
    "    transcript.write(result['text'])    "
   ]
  },
  {
   "cell_type": "markdown",
   "id": "de5fd12a-a25b-49c5-9e8f-9c38a8e6652c",
   "metadata": {},
   "source": [
    "Tested on mp3, wav and m4v files."
   ]
  }
 ],
 "metadata": {
  "kernelspec": {
   "display_name": "Python 3 (ipykernel)",
   "language": "python",
   "name": "python3"
  },
  "language_info": {
   "codemirror_mode": {
    "name": "ipython",
    "version": 3
   },
   "file_extension": ".py",
   "mimetype": "text/x-python",
   "name": "python",
   "nbconvert_exporter": "python",
   "pygments_lexer": "ipython3",
   "version": "3.10.6"
  }
 },
 "nbformat": 4,
 "nbformat_minor": 5
}
